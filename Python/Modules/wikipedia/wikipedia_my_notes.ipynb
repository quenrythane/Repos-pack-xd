{
 "cells": [
  {
   "cell_type": "markdown",
   "id": "6ccbd1b6-8938-4dab-9003-e1d563bd1ec5",
   "metadata": {},
   "source": [
    "docs: https://wikipedia.readthedocs.io/en/latest/quickstart.html"
   ]
  },
  {
   "cell_type": "markdown",
   "id": "6a223294-6e01-43b7-b337-1573f2c0f397",
   "metadata": {},
   "source": [
    "## How to start"
   ]
  },
  {
   "cell_type": "markdown",
   "id": "3634a0c3-71aa-470e-b6b4-0d91893d43b6",
   "metadata": {},
   "source": [
    "Classically to use module we have to download it"
   ]
  },
  {
   "cell_type": "code",
   "execution_count": 1,
   "id": "c8f905be-a38e-4d5c-b8cc-d9a7de590203",
   "metadata": {},
   "outputs": [
    {
     "name": "stdout",
     "output_type": "stream",
     "text": [
      "Requirement already satisfied: wikipedia in c:\\programdata\\anaconda3\\lib\\site-packages (1.4.0)\n",
      "Requirement already satisfied: requests<3.0.0,>=2.0.0 in c:\\programdata\\anaconda3\\lib\\site-packages (from wikipedia) (2.26.0)\n",
      "Requirement already satisfied: beautifulsoup4 in c:\\programdata\\anaconda3\\lib\\site-packages (from wikipedia) (4.10.0)\n",
      "Requirement already satisfied: certifi>=2017.4.17 in c:\\programdata\\anaconda3\\lib\\site-packages (from requests<3.0.0,>=2.0.0->wikipedia) (2021.10.8)\n",
      "Requirement already satisfied: charset-normalizer~=2.0.0 in c:\\programdata\\anaconda3\\lib\\site-packages (from requests<3.0.0,>=2.0.0->wikipedia) (2.0.4)\n",
      "Requirement already satisfied: idna<4,>=2.5 in c:\\programdata\\anaconda3\\lib\\site-packages (from requests<3.0.0,>=2.0.0->wikipedia) (3.2)\n",
      "Requirement already satisfied: urllib3<1.27,>=1.21.1 in c:\\programdata\\anaconda3\\lib\\site-packages (from requests<3.0.0,>=2.0.0->wikipedia) (1.26.7)\n",
      "Requirement already satisfied: soupsieve>1.2 in c:\\programdata\\anaconda3\\lib\\site-packages (from beautifulsoup4->wikipedia) (2.2.1)\n"
     ]
    }
   ],
   "source": [
    "! pip3 install wikipedia"
   ]
  },
  {
   "cell_type": "markdown",
   "id": "7601acda-9738-41c7-a6b7-45e214ea6eab",
   "metadata": {},
   "source": [
    "."
   ]
  },
  {
   "cell_type": "markdown",
   "id": "6a3d5499-c264-4d9d-b034-1332d9af66b8",
   "metadata": {},
   "source": [
    "Then import into file"
   ]
  },
  {
   "cell_type": "code",
   "execution_count": 2,
   "id": "be2d03aa-0cf3-42f6-bdc1-453f9363be38",
   "metadata": {},
   "outputs": [],
   "source": [
    "import wikipedia"
   ]
  },
  {
   "cell_type": "markdown",
   "id": "38f770d7-187a-4b29-ab50-f7e7a2a265c8",
   "metadata": {},
   "source": [
    "## set_lang() -> looks for the result in given language"
   ]
  },
  {
   "cell_type": "code",
   "execution_count": 3,
   "id": "28726bd9-95f7-454c-adb6-5370da9b412b",
   "metadata": {},
   "outputs": [],
   "source": [
    "wikipedia.set_lang('pl')"
   ]
  },
  {
   "cell_type": "markdown",
   "id": "f81520d7-7a09-4887-911f-457e04c3d035",
   "metadata": {
    "tags": []
   },
   "source": [
    "#### check posible languages"
   ]
  },
  {
   "cell_type": "code",
   "execution_count": 4,
   "id": "c2866445-3567-4efc-82f1-12339187c55e",
   "metadata": {
    "collapsed": true,
    "jupyter": {
     "outputs_hidden": true
    },
    "tags": []
   },
   "outputs": [
    {
     "data": {
      "text/plain": [
       "{'aa': 'Qafár af',\n",
       " 'ab': 'аԥсшәа',\n",
       " 'abs': 'bahasa ambon',\n",
       " 'ace': 'Acèh',\n",
       " 'ady': 'адыгабзэ',\n",
       " 'ady-cyrl': 'адыгабзэ',\n",
       " 'aeb': 'تونسي/Tûnsî',\n",
       " 'aeb-arab': 'تونسي',\n",
       " 'aeb-latn': 'Tûnsî',\n",
       " 'af': 'Afrikaans',\n",
       " 'ak': 'Akan',\n",
       " 'aln': 'Gegë',\n",
       " 'als': 'Alemannisch',\n",
       " 'alt': 'алтай тил',\n",
       " 'am': 'አማርኛ',\n",
       " 'ami': 'Pangcah',\n",
       " 'an': 'aragonés',\n",
       " 'ang': 'Ænglisc',\n",
       " 'anp': 'अंगिका',\n",
       " 'ar': 'العربية',\n",
       " 'arc': 'ܐܪܡܝܐ',\n",
       " 'arn': 'mapudungun',\n",
       " 'arq': 'جازايرية',\n",
       " 'ary': 'الدارجة',\n",
       " 'arz': 'مصرى',\n",
       " 'as': 'অসমীয়া',\n",
       " 'ase': 'American sign language',\n",
       " 'ast': 'asturianu',\n",
       " 'atj': 'Atikamekw',\n",
       " 'av': 'авар',\n",
       " 'avk': 'Kotava',\n",
       " 'awa': 'अवधी',\n",
       " 'ay': 'Aymar aru',\n",
       " 'az': 'azərbaycanca',\n",
       " 'azb': 'تۆرکجه',\n",
       " 'ba': 'башҡортса',\n",
       " 'ban': 'Basa Bali',\n",
       " 'ban-bali': 'ᬩᬲᬩᬮᬶ',\n",
       " 'bar': 'Boarisch',\n",
       " 'bat-smg': 'žemaitėška',\n",
       " 'bbc': 'Batak Toba',\n",
       " 'bbc-latn': 'Batak Toba',\n",
       " 'bcc': 'جهلسری بلوچی',\n",
       " 'bci': 'wawle',\n",
       " 'bcl': 'Bikol Central',\n",
       " 'be': 'беларуская',\n",
       " 'be-tarask': 'беларуская (тарашкевіца)',\n",
       " 'be-x-old': 'беларуская (тарашкевіца)',\n",
       " 'bg': 'български',\n",
       " 'bgn': 'روچ کپتین بلوچی',\n",
       " 'bh': 'भोजपुरी',\n",
       " 'bho': 'भोजपुरी',\n",
       " 'bi': 'Bislama',\n",
       " 'bjn': 'Banjar',\n",
       " 'blk': 'ပအိုဝ်ႏဘာႏသာႏ',\n",
       " 'bm': 'bamanankan',\n",
       " 'bn': 'বাংলা',\n",
       " 'bo': 'བོད་ཡིག',\n",
       " 'bpy': 'বিষ্ণুপ্রিয়া মণিপুরী',\n",
       " 'bqi': 'بختیاری',\n",
       " 'br': 'brezhoneg',\n",
       " 'brh': 'Bráhuí',\n",
       " 'bs': 'bosanski',\n",
       " 'btm': 'Batak Mandailing',\n",
       " 'bto': 'Iriga Bicolano',\n",
       " 'bug': 'ᨅᨔ ᨕᨘᨁᨗ',\n",
       " 'bxr': 'буряад',\n",
       " 'ca': 'català',\n",
       " 'cbk-zam': 'Chavacano de Zamboanga',\n",
       " 'cdo': 'Mìng-dĕ̤ng-ngṳ̄',\n",
       " 'ce': 'нохчийн',\n",
       " 'ceb': 'Cebuano',\n",
       " 'ch': 'Chamoru',\n",
       " 'cho': 'Choctaw',\n",
       " 'chr': 'ᏣᎳᎩ',\n",
       " 'chy': 'Tsetsêhestâhese',\n",
       " 'ckb': 'کوردی',\n",
       " 'co': 'corsu',\n",
       " 'cps': 'Capiceño',\n",
       " 'cr': 'Nēhiyawēwin / ᓀᐦᐃᔭᐍᐏᐣ',\n",
       " 'crh': 'qırımtatarca',\n",
       " 'crh-cyrl': 'къырымтатарджа (Кирилл)',\n",
       " 'crh-latn': 'qırımtatarca (Latin)',\n",
       " 'cs': 'čeština',\n",
       " 'csb': 'kaszëbsczi',\n",
       " 'cu': 'словѣньскъ / ⰔⰎⰑⰂⰡⰐⰠⰔⰍⰟ',\n",
       " 'cv': 'чӑвашла',\n",
       " 'cy': 'Cymraeg',\n",
       " 'da': 'dansk',\n",
       " 'dag': 'dagbanli',\n",
       " 'de': 'Deutsch',\n",
       " 'de-at': 'Österreichisches Deutsch',\n",
       " 'de-ch': 'Schweizer Hochdeutsch',\n",
       " 'de-formal': 'Deutsch (Sie-Form)',\n",
       " 'din': 'Thuɔŋjäŋ',\n",
       " 'diq': 'Zazaki',\n",
       " 'dsb': 'dolnoserbski',\n",
       " 'dtp': 'Dusun Bundu-liwan',\n",
       " 'dty': 'डोटेली',\n",
       " 'dv': 'ދިވެހިބަސް',\n",
       " 'dz': 'ཇོང་ཁ',\n",
       " 'ee': 'eʋegbe',\n",
       " 'egl': 'Emiliàn',\n",
       " 'el': 'Ελληνικά',\n",
       " 'eml': 'emiliàn e rumagnòl',\n",
       " 'en': 'English',\n",
       " 'en-ca': 'Canadian English',\n",
       " 'en-gb': 'British English',\n",
       " 'eo': 'Esperanto',\n",
       " 'es': 'español',\n",
       " 'es-419': 'español de América Latina',\n",
       " 'es-formal': 'español (formal)',\n",
       " 'et': 'eesti',\n",
       " 'eu': 'euskara',\n",
       " 'ext': 'estremeñu',\n",
       " 'fa': 'فارسی',\n",
       " 'ff': 'Fulfulde',\n",
       " 'fi': 'suomi',\n",
       " 'fit': 'meänkieli',\n",
       " 'fiu-vro': 'võro',\n",
       " 'fj': 'Na Vosa Vakaviti',\n",
       " 'fo': 'føroyskt',\n",
       " 'fon': 'fɔ̀ngbè',\n",
       " 'fr': 'français',\n",
       " 'frc': 'français cadien',\n",
       " 'frp': 'arpetan',\n",
       " 'frr': 'Nordfriisk',\n",
       " 'fur': 'furlan',\n",
       " 'fy': 'Frysk',\n",
       " 'ga': 'Gaeilge',\n",
       " 'gaa': 'Ga',\n",
       " 'gag': 'Gagauz',\n",
       " 'gan': '贛語',\n",
       " 'gan-hans': '赣语（简体）',\n",
       " 'gan-hant': '贛語（繁體）',\n",
       " 'gcr': 'kriyòl gwiyannen',\n",
       " 'gd': 'Gàidhlig',\n",
       " 'gl': 'galego',\n",
       " 'gld': 'на̄ни',\n",
       " 'glk': 'گیلکی',\n",
       " 'gn': \"Avañe'ẽ\",\n",
       " 'gom': 'गोंयची कोंकणी / Gõychi Konknni',\n",
       " 'gom-deva': 'गोंयची कोंकणी',\n",
       " 'gom-latn': 'Gõychi Konknni',\n",
       " 'gor': 'Bahasa Hulontalo',\n",
       " 'got': '𐌲𐌿𐍄𐌹𐍃𐌺',\n",
       " 'grc': 'Ἀρχαία ἑλληνικὴ',\n",
       " 'gsw': 'Alemannisch',\n",
       " 'gu': 'ગુજરાતી',\n",
       " 'guc': 'wayuunaiki',\n",
       " 'gur': 'farefare',\n",
       " 'guw': 'gungbe',\n",
       " 'gv': 'Gaelg',\n",
       " 'ha': 'Hausa',\n",
       " 'hak': '客家語/Hak-kâ-ngî',\n",
       " 'haw': 'Hawaiʻi',\n",
       " 'he': 'עברית',\n",
       " 'hi': 'हिन्दी',\n",
       " 'hif': 'Fiji Hindi',\n",
       " 'hif-latn': 'Fiji Hindi',\n",
       " 'hil': 'Ilonggo',\n",
       " 'ho': 'Hiri Motu',\n",
       " 'hr': 'hrvatski',\n",
       " 'hrx': 'Hunsrik',\n",
       " 'hsb': 'hornjoserbsce',\n",
       " 'hsn': '湘语',\n",
       " 'ht': 'Kreyòl ayisyen',\n",
       " 'hu': 'magyar',\n",
       " 'hu-formal': 'magyar (formal)',\n",
       " 'hy': 'հայերեն',\n",
       " 'hyw': 'Արեւմտահայերէն',\n",
       " 'hz': 'Otsiherero',\n",
       " 'ia': 'interlingua',\n",
       " 'id': 'Bahasa Indonesia',\n",
       " 'ie': 'Interlingue',\n",
       " 'ig': 'Igbo',\n",
       " 'ii': 'ꆇꉙ',\n",
       " 'ik': 'Iñupiak',\n",
       " 'ike-cans': 'ᐃᓄᒃᑎᑐᑦ',\n",
       " 'ike-latn': 'inuktitut',\n",
       " 'ilo': 'Ilokano',\n",
       " 'inh': 'гӀалгӀай',\n",
       " 'io': 'Ido',\n",
       " 'is': 'íslenska',\n",
       " 'it': 'italiano',\n",
       " 'iu': 'ᐃᓄᒃᑎᑐᑦ/inuktitut',\n",
       " 'ja': '日本語',\n",
       " 'jam': 'Patois',\n",
       " 'jbo': 'la .lojban.',\n",
       " 'jut': 'jysk',\n",
       " 'jv': 'Jawa',\n",
       " 'ka': 'ქართული',\n",
       " 'kaa': 'Qaraqalpaqsha',\n",
       " 'kab': 'Taqbaylit',\n",
       " 'kbd': 'адыгэбзэ',\n",
       " 'kbd-cyrl': 'адыгэбзэ',\n",
       " 'kbp': 'Kabɩyɛ',\n",
       " 'kcg': 'Tyap',\n",
       " 'kea': 'kabuverdianu',\n",
       " 'kg': 'Kongo',\n",
       " 'khw': 'کھوار',\n",
       " 'ki': 'Gĩkũyũ',\n",
       " 'kiu': 'Kırmancki',\n",
       " 'kj': 'Kwanyama',\n",
       " 'kjp': 'ဖၠုံလိက်',\n",
       " 'kk': 'қазақша',\n",
       " 'kk-arab': 'قازاقشا (تٴوتە)',\n",
       " 'kk-cn': 'قازاقشا (جۇنگو)',\n",
       " 'kk-cyrl': 'қазақша (кирил)',\n",
       " 'kk-kz': 'қазақша (Қазақстан)',\n",
       " 'kk-latn': 'qazaqşa (latın)',\n",
       " 'kk-tr': 'qazaqşa (Türkïya)',\n",
       " 'kl': 'kalaallisut',\n",
       " 'km': 'ភាសាខ្មែរ',\n",
       " 'kn': 'ಕನ್ನಡ',\n",
       " 'ko': '한국어',\n",
       " 'ko-kp': '조선말',\n",
       " 'koi': 'перем коми',\n",
       " 'kr': 'Kanuri',\n",
       " 'krc': 'къарачай-малкъар',\n",
       " 'kri': 'Krio',\n",
       " 'krj': 'Kinaray-a',\n",
       " 'krl': 'karjal',\n",
       " 'ks': 'कॉशुर / کٲشُر',\n",
       " 'ks-arab': 'کٲشُر',\n",
       " 'ks-deva': 'कॉशुर',\n",
       " 'ksh': 'Ripoarisch',\n",
       " 'ksw': 'စှီၤ',\n",
       " 'ku': 'kurdî',\n",
       " 'ku-arab': 'كوردي (عەرەبی)',\n",
       " 'ku-latn': 'kurdî (latînî)',\n",
       " 'kum': 'къумукъ',\n",
       " 'kv': 'коми',\n",
       " 'kw': 'kernowek',\n",
       " 'ky': 'кыргызча',\n",
       " 'la': 'Latina',\n",
       " 'lad': 'Ladino',\n",
       " 'lb': 'Lëtzebuergesch',\n",
       " 'lbe': 'лакку',\n",
       " 'lez': 'лезги',\n",
       " 'lfn': 'Lingua Franca Nova',\n",
       " 'lg': 'Luganda',\n",
       " 'li': 'Limburgs',\n",
       " 'lij': 'Ligure',\n",
       " 'liv': 'Līvõ kēļ',\n",
       " 'lki': 'لەکی',\n",
       " 'lld': 'Ladin',\n",
       " 'lmo': 'lombard',\n",
       " 'ln': 'lingála',\n",
       " 'lo': 'ລາວ',\n",
       " 'loz': 'Silozi',\n",
       " 'lrc': 'لۊری شومالی',\n",
       " 'lt': 'lietuvių',\n",
       " 'ltg': 'latgaļu',\n",
       " 'lus': 'Mizo ţawng',\n",
       " 'luz': 'لئری دوٙمینی',\n",
       " 'lv': 'latviešu',\n",
       " 'lzh': '文言',\n",
       " 'lzz': 'Lazuri',\n",
       " 'mad': 'Madhurâ',\n",
       " 'mai': 'मैथिली',\n",
       " 'map-bms': 'Basa Banyumasan',\n",
       " 'mdf': 'мокшень',\n",
       " 'mg': 'Malagasy',\n",
       " 'mh': 'Ebon',\n",
       " 'mhr': 'олык марий',\n",
       " 'mi': 'Māori',\n",
       " 'min': 'Minangkabau',\n",
       " 'mk': 'македонски',\n",
       " 'ml': 'മലയാളം',\n",
       " 'mn': 'монгол',\n",
       " 'mni': 'ꯃꯤꯇꯩ ꯂꯣꯟ',\n",
       " 'mnw': 'ဘာသာ မန်',\n",
       " 'mo': 'молдовеняскэ',\n",
       " 'mr': 'मराठी',\n",
       " 'mrh': 'Mara',\n",
       " 'mrj': 'кырык мары',\n",
       " 'ms': 'Bahasa Melayu',\n",
       " 'ms-arab': 'بهاس ملايو',\n",
       " 'mt': 'Malti',\n",
       " 'mus': 'Mvskoke',\n",
       " 'mwl': 'Mirandés',\n",
       " 'my': 'မြန်မာဘာသာ',\n",
       " 'myv': 'эрзянь',\n",
       " 'mzn': 'مازِرونی',\n",
       " 'na': 'Dorerin Naoero',\n",
       " 'nah': 'Nāhuatl',\n",
       " 'nan': 'Bân-lâm-gú',\n",
       " 'nap': 'Napulitano',\n",
       " 'nb': 'norsk bokmål',\n",
       " 'nds': 'Plattdüütsch',\n",
       " 'nds-nl': 'Nedersaksies',\n",
       " 'ne': 'नेपाली',\n",
       " 'new': 'नेपाल भाषा',\n",
       " 'ng': 'Oshiwambo',\n",
       " 'nia': 'Li Niha',\n",
       " 'niu': 'Niuē',\n",
       " 'nl': 'Nederlands',\n",
       " 'nl-informal': 'Nederlands (informeel)',\n",
       " 'nmz': 'nawdm',\n",
       " 'nn': 'norsk nynorsk',\n",
       " 'no': 'norsk',\n",
       " 'nod': 'ᨣᩤᩴᨾᩮᩬᩥᨦ',\n",
       " 'nov': 'Novial',\n",
       " 'nqo': 'ߒߞߏ',\n",
       " 'nrm': 'Nouormand',\n",
       " 'nso': 'Sesotho sa Leboa',\n",
       " 'nv': 'Diné bizaad',\n",
       " 'ny': 'Chi-Chewa',\n",
       " 'nyn': 'runyankore',\n",
       " 'nys': 'Nyunga',\n",
       " 'oc': 'occitan',\n",
       " 'ojb': 'Ojibwemowin',\n",
       " 'olo': 'livvinkarjala',\n",
       " 'om': 'Oromoo',\n",
       " 'or': 'ଓଡ଼ିଆ',\n",
       " 'os': 'ирон',\n",
       " 'pa': 'ਪੰਜਾਬੀ',\n",
       " 'pag': 'Pangasinan',\n",
       " 'pam': 'Kapampangan',\n",
       " 'pap': 'Papiamentu',\n",
       " 'pcd': 'Picard',\n",
       " 'pdc': 'Deitsch',\n",
       " 'pdt': 'Plautdietsch',\n",
       " 'pfl': 'Pälzisch',\n",
       " 'pi': 'पालि',\n",
       " 'pih': 'Norfuk / Pitkern',\n",
       " 'pl': 'polski',\n",
       " 'pms': 'Piemontèis',\n",
       " 'pnb': 'پنجابی',\n",
       " 'pnt': 'Ποντιακά',\n",
       " 'prg': 'prūsiskan',\n",
       " 'ps': 'پښتو',\n",
       " 'pt': 'português',\n",
       " 'pt-br': 'português do Brasil',\n",
       " 'pwn': 'pinayuanan',\n",
       " 'qu': 'Runa Simi',\n",
       " 'qug': 'Runa shimi',\n",
       " 'rgn': 'Rumagnôl',\n",
       " 'rif': 'Tarifit',\n",
       " 'rm': 'rumantsch',\n",
       " 'rmc': 'romaňi čhib',\n",
       " 'rmy': 'romani čhib',\n",
       " 'rn': 'ikirundi',\n",
       " 'ro': 'română',\n",
       " 'roa-rup': 'armãneashti',\n",
       " 'roa-tara': 'tarandíne',\n",
       " 'rsk': 'руски',\n",
       " 'ru': 'русский',\n",
       " 'rue': 'русиньскый',\n",
       " 'rup': 'armãneashti',\n",
       " 'ruq': 'Vlăheşte',\n",
       " 'ruq-cyrl': 'Влахесте',\n",
       " 'ruq-latn': 'Vlăheşte',\n",
       " 'rw': 'Ikinyarwanda',\n",
       " 'sa': 'संस्कृतम्',\n",
       " 'sah': 'саха тыла',\n",
       " 'sat': 'ᱥᱟᱱᱛᱟᱲᱤ',\n",
       " 'sc': 'sardu',\n",
       " 'scn': 'sicilianu',\n",
       " 'sco': 'Scots',\n",
       " 'sd': 'سنڌي',\n",
       " 'sdc': 'Sassaresu',\n",
       " 'sdh': 'کوردی خوارگ',\n",
       " 'se': 'davvisámegiella',\n",
       " 'se-fi': 'davvisámegiella (Suoma bealde)',\n",
       " 'se-no': 'davvisámegiella (Norgga bealde)',\n",
       " 'se-se': 'davvisámegiella (Ruoŧa bealde)',\n",
       " 'sei': 'Cmique Itom',\n",
       " 'ses': 'Koyraboro Senni',\n",
       " 'sg': 'Sängö',\n",
       " 'sgs': 'žemaitėška',\n",
       " 'sh': 'srpskohrvatski / српскохрватски',\n",
       " 'shi': 'Taclḥit',\n",
       " 'shi-latn': 'Taclḥit',\n",
       " 'shi-tfng': 'ⵜⴰⵛⵍⵃⵉⵜ',\n",
       " 'shn': 'ၽႃႇသႃႇတႆး ',\n",
       " 'shy': 'tacawit',\n",
       " 'shy-latn': 'tacawit',\n",
       " 'si': 'සිංහල',\n",
       " 'simple': 'Simple English',\n",
       " 'sjd': 'кӣллт са̄мь кӣлл',\n",
       " 'sje': 'bidumsámegiella',\n",
       " 'sk': 'slovenčina',\n",
       " 'skr': 'سرائیکی',\n",
       " 'skr-arab': 'سرائیکی',\n",
       " 'sl': 'slovenščina',\n",
       " 'sli': 'Schläsch',\n",
       " 'sm': 'Gagana Samoa',\n",
       " 'sma': 'åarjelsaemien',\n",
       " 'smn': 'anarâškielâ',\n",
       " 'sms': 'nuõrttsääʹmǩiõll',\n",
       " 'sn': 'chiShona',\n",
       " 'so': 'Soomaaliga',\n",
       " 'sq': 'shqip',\n",
       " 'sr': 'српски / srpski',\n",
       " 'sr-ec': 'српски (ћирилица)',\n",
       " 'sr-el': 'srpski (latinica)',\n",
       " 'srn': 'Sranantongo',\n",
       " 'ss': 'SiSwati',\n",
       " 'st': 'Sesotho',\n",
       " 'stq': 'Seeltersk',\n",
       " 'sty': 'себертатар',\n",
       " 'su': 'Sunda',\n",
       " 'sv': 'svenska',\n",
       " 'sw': 'Kiswahili',\n",
       " 'szl': 'ślůnski',\n",
       " 'szy': 'Sakizaya',\n",
       " 'ta': 'தமிழ்',\n",
       " 'tay': 'Tayal',\n",
       " 'tcy': 'ತುಳು',\n",
       " 'te': 'తెలుగు',\n",
       " 'tet': 'tetun',\n",
       " 'tg': 'тоҷикӣ',\n",
       " 'tg-cyrl': 'тоҷикӣ',\n",
       " 'tg-latn': 'tojikī',\n",
       " 'th': 'ไทย',\n",
       " 'ti': 'ትግርኛ',\n",
       " 'tk': 'Türkmençe',\n",
       " 'tl': 'Tagalog',\n",
       " 'tly': 'tolışi',\n",
       " 'tly-cyrl': 'толыши',\n",
       " 'tn': 'Setswana',\n",
       " 'to': 'lea faka-Tonga',\n",
       " 'tpi': 'Tok Pisin',\n",
       " 'tr': 'Türkçe',\n",
       " 'tru': 'Ṫuroyo',\n",
       " 'trv': 'Seediq',\n",
       " 'ts': 'Xitsonga',\n",
       " 'tt': 'татарча/tatarça',\n",
       " 'tt-cyrl': 'татарча',\n",
       " 'tt-latn': 'tatarça',\n",
       " 'tum': 'chiTumbuka',\n",
       " 'tw': 'Twi',\n",
       " 'ty': 'reo tahiti',\n",
       " 'tyv': 'тыва дыл',\n",
       " 'tzm': 'ⵜⴰⵎⴰⵣⵉⵖⵜ',\n",
       " 'udm': 'удмурт',\n",
       " 'ug': 'ئۇيغۇرچە / Uyghurche',\n",
       " 'ug-arab': 'ئۇيغۇرچە',\n",
       " 'ug-latn': 'Uyghurche',\n",
       " 'uk': 'українська',\n",
       " 'ur': 'اردو',\n",
       " 'uz': 'oʻzbekcha/ўзбекча',\n",
       " 'uz-cyrl': 'ўзбекча',\n",
       " 'uz-latn': 'oʻzbekcha',\n",
       " 've': 'Tshivenda',\n",
       " 'vec': 'vèneto',\n",
       " 'vep': 'vepsän kel’',\n",
       " 'vi': 'Tiếng Việt',\n",
       " 'vls': 'West-Vlams',\n",
       " 'vmf': 'Mainfränkisch',\n",
       " 'vmw': 'emakhuwa',\n",
       " 'vo': 'Volapük',\n",
       " 'vot': 'Vaďďa',\n",
       " 'vro': 'võro',\n",
       " 'wa': 'walon',\n",
       " 'war': 'Winaray',\n",
       " 'wls': 'Fakaʻuvea',\n",
       " 'wo': 'Wolof',\n",
       " 'wuu': '吴语',\n",
       " 'xal': 'хальмг',\n",
       " 'xh': 'isiXhosa',\n",
       " 'xmf': 'მარგალური',\n",
       " 'xsy': 'saisiyat',\n",
       " 'yi': 'ייִדיש',\n",
       " 'yo': 'Yorùbá',\n",
       " 'yrl': 'Nhẽẽgatú',\n",
       " 'yue': '粵語',\n",
       " 'za': 'Vahcuengh',\n",
       " 'zea': 'Zeêuws',\n",
       " 'zgh': 'ⵜⴰⵎⴰⵣⵉⵖⵜ ⵜⴰⵏⴰⵡⴰⵢⵜ',\n",
       " 'zh': '中文',\n",
       " 'zh-classical': '文言',\n",
       " 'zh-cn': '中文（中国大陆）',\n",
       " 'zh-hans': '中文（简体）',\n",
       " 'zh-hant': '中文（繁體）',\n",
       " 'zh-hk': '中文（香港）',\n",
       " 'zh-min-nan': 'Bân-lâm-gú',\n",
       " 'zh-mo': '中文（澳門）',\n",
       " 'zh-my': '中文（马来西亚）',\n",
       " 'zh-sg': '中文（新加坡）',\n",
       " 'zh-tw': '中文（臺灣）',\n",
       " 'zh-yue': '粵語',\n",
       " 'zu': 'isiZulu'}"
      ]
     },
     "execution_count": 4,
     "metadata": {},
     "output_type": "execute_result"
    }
   ],
   "source": [
    "wikipedia.languages()  #  dict -> iso_code: language"
   ]
  },
  {
   "cell_type": "code",
   "execution_count": 5,
   "id": "9690255f-5c0b-43d3-8010-91c169a0d366",
   "metadata": {
    "collapsed": true,
    "jupyter": {
     "outputs_hidden": true
    },
    "tags": []
   },
   "outputs": [
    {
     "name": "stdout",
     "output_type": "stream",
     "text": [
      "aa\n",
      "ab\n",
      "abs\n",
      "ace\n",
      "ady\n",
      "ady-cyrl\n",
      "aeb\n",
      "aeb-arab\n",
      "aeb-latn\n",
      "af\n",
      "ak\n",
      "aln\n",
      "als\n",
      "alt\n",
      "am\n",
      "ami\n",
      "an\n",
      "ang\n",
      "anp\n",
      "ar\n",
      "arc\n",
      "arn\n",
      "arq\n",
      "ary\n",
      "arz\n",
      "as\n",
      "ase\n",
      "ast\n",
      "atj\n",
      "av\n",
      "avk\n",
      "awa\n",
      "ay\n",
      "az\n",
      "azb\n",
      "ba\n",
      "ban\n",
      "ban-bali\n",
      "bar\n",
      "bat-smg\n",
      "bbc\n",
      "bbc-latn\n",
      "bcc\n",
      "bci\n",
      "bcl\n",
      "be\n",
      "be-tarask\n",
      "be-x-old\n",
      "bg\n",
      "bgn\n",
      "bh\n",
      "bho\n",
      "bi\n",
      "bjn\n",
      "blk\n",
      "bm\n",
      "bn\n",
      "bo\n",
      "bpy\n",
      "bqi\n",
      "br\n",
      "brh\n",
      "bs\n",
      "btm\n",
      "bto\n",
      "bug\n",
      "bxr\n",
      "ca\n",
      "cbk-zam\n",
      "cdo\n",
      "ce\n",
      "ceb\n",
      "ch\n",
      "cho\n",
      "chr\n",
      "chy\n",
      "ckb\n",
      "co\n",
      "cps\n",
      "cr\n",
      "crh\n",
      "crh-cyrl\n",
      "crh-latn\n",
      "cs\n",
      "csb\n",
      "cu\n",
      "cv\n",
      "cy\n",
      "da\n",
      "dag\n",
      "de\n",
      "de-at\n",
      "de-ch\n",
      "de-formal\n",
      "din\n",
      "diq\n",
      "dsb\n",
      "dtp\n",
      "dty\n",
      "dv\n",
      "dz\n",
      "ee\n",
      "egl\n",
      "el\n",
      "eml\n",
      "en\n",
      "en-ca\n",
      "en-gb\n",
      "eo\n",
      "es\n",
      "es-419\n",
      "es-formal\n",
      "et\n",
      "eu\n",
      "ext\n",
      "fa\n",
      "ff\n",
      "fi\n",
      "fit\n",
      "fiu-vro\n",
      "fj\n",
      "fo\n",
      "fon\n",
      "fr\n",
      "frc\n",
      "frp\n",
      "frr\n",
      "fur\n",
      "fy\n",
      "ga\n",
      "gaa\n",
      "gag\n",
      "gan\n",
      "gan-hans\n",
      "gan-hant\n",
      "gcr\n",
      "gd\n",
      "gl\n",
      "gld\n",
      "glk\n",
      "gn\n",
      "gom\n",
      "gom-deva\n",
      "gom-latn\n",
      "gor\n",
      "got\n",
      "grc\n",
      "gsw\n",
      "gu\n",
      "guc\n",
      "gur\n",
      "guw\n",
      "gv\n",
      "ha\n",
      "hak\n",
      "haw\n",
      "he\n",
      "hi\n",
      "hif\n",
      "hif-latn\n",
      "hil\n",
      "ho\n",
      "hr\n",
      "hrx\n",
      "hsb\n",
      "hsn\n",
      "ht\n",
      "hu\n",
      "hu-formal\n",
      "hy\n",
      "hyw\n",
      "hz\n",
      "ia\n",
      "id\n",
      "ie\n",
      "ig\n",
      "ii\n",
      "ik\n",
      "ike-cans\n",
      "ike-latn\n",
      "ilo\n",
      "inh\n",
      "io\n",
      "is\n",
      "it\n",
      "iu\n",
      "ja\n",
      "jam\n",
      "jbo\n",
      "jut\n",
      "jv\n",
      "ka\n",
      "kaa\n",
      "kab\n",
      "kbd\n",
      "kbd-cyrl\n",
      "kbp\n",
      "kcg\n",
      "kea\n",
      "kg\n",
      "khw\n",
      "ki\n",
      "kiu\n",
      "kj\n",
      "kjp\n",
      "kk\n",
      "kk-arab\n",
      "kk-cn\n",
      "kk-cyrl\n",
      "kk-kz\n",
      "kk-latn\n",
      "kk-tr\n",
      "kl\n",
      "km\n",
      "kn\n",
      "ko\n",
      "ko-kp\n",
      "koi\n",
      "kr\n",
      "krc\n",
      "kri\n",
      "krj\n",
      "krl\n",
      "ks\n",
      "ks-arab\n",
      "ks-deva\n",
      "ksh\n",
      "ksw\n",
      "ku\n",
      "ku-arab\n",
      "ku-latn\n",
      "kum\n",
      "kv\n",
      "kw\n",
      "ky\n",
      "la\n",
      "lad\n",
      "lb\n",
      "lbe\n",
      "lez\n",
      "lfn\n",
      "lg\n",
      "li\n",
      "lij\n",
      "liv\n",
      "lki\n",
      "lld\n",
      "lmo\n",
      "ln\n",
      "lo\n",
      "loz\n",
      "lrc\n",
      "lt\n",
      "ltg\n",
      "lus\n",
      "luz\n",
      "lv\n",
      "lzh\n",
      "lzz\n",
      "mad\n",
      "mai\n",
      "map-bms\n",
      "mdf\n",
      "mg\n",
      "mh\n",
      "mhr\n",
      "mi\n",
      "min\n",
      "mk\n",
      "ml\n",
      "mn\n",
      "mni\n",
      "mnw\n",
      "mo\n",
      "mr\n",
      "mrh\n",
      "mrj\n",
      "ms\n",
      "ms-arab\n",
      "mt\n",
      "mus\n",
      "mwl\n",
      "my\n",
      "myv\n",
      "mzn\n",
      "na\n",
      "nah\n",
      "nan\n",
      "nap\n",
      "nb\n",
      "nds\n",
      "nds-nl\n",
      "ne\n",
      "new\n",
      "ng\n",
      "nia\n",
      "niu\n",
      "nl\n",
      "nl-informal\n",
      "nmz\n",
      "nn\n",
      "no\n",
      "nod\n",
      "nov\n",
      "nqo\n",
      "nrm\n",
      "nso\n",
      "nv\n",
      "ny\n",
      "nyn\n",
      "nys\n",
      "oc\n",
      "ojb\n",
      "olo\n",
      "om\n",
      "or\n",
      "os\n",
      "pa\n",
      "pag\n",
      "pam\n",
      "pap\n",
      "pcd\n",
      "pdc\n",
      "pdt\n",
      "pfl\n",
      "pi\n",
      "pih\n",
      "pl\n",
      "pms\n",
      "pnb\n",
      "pnt\n",
      "prg\n",
      "ps\n",
      "pt\n",
      "pt-br\n",
      "pwn\n",
      "qu\n",
      "qug\n",
      "rgn\n",
      "rif\n",
      "rm\n",
      "rmc\n",
      "rmy\n",
      "rn\n",
      "ro\n",
      "roa-rup\n",
      "roa-tara\n",
      "rsk\n",
      "ru\n",
      "rue\n",
      "rup\n",
      "ruq\n",
      "ruq-cyrl\n",
      "ruq-latn\n",
      "rw\n",
      "sa\n",
      "sah\n",
      "sat\n",
      "sc\n",
      "scn\n",
      "sco\n",
      "sd\n",
      "sdc\n",
      "sdh\n",
      "se\n",
      "se-fi\n",
      "se-no\n",
      "se-se\n",
      "sei\n",
      "ses\n",
      "sg\n",
      "sgs\n",
      "sh\n",
      "shi\n",
      "shi-latn\n",
      "shi-tfng\n",
      "shn\n",
      "shy\n",
      "shy-latn\n",
      "si\n",
      "simple\n",
      "sjd\n",
      "sje\n",
      "sk\n",
      "skr\n",
      "skr-arab\n",
      "sl\n",
      "sli\n",
      "sm\n",
      "sma\n",
      "smn\n",
      "sms\n",
      "sn\n",
      "so\n",
      "sq\n",
      "sr\n",
      "sr-ec\n",
      "sr-el\n",
      "srn\n",
      "ss\n",
      "st\n",
      "stq\n",
      "sty\n",
      "su\n",
      "sv\n",
      "sw\n",
      "szl\n",
      "szy\n",
      "ta\n",
      "tay\n",
      "tcy\n",
      "te\n",
      "tet\n",
      "tg\n",
      "tg-cyrl\n",
      "tg-latn\n",
      "th\n",
      "ti\n",
      "tk\n",
      "tl\n",
      "tly\n",
      "tly-cyrl\n",
      "tn\n",
      "to\n",
      "tpi\n",
      "tr\n",
      "tru\n",
      "trv\n",
      "ts\n",
      "tt\n",
      "tt-cyrl\n",
      "tt-latn\n",
      "tum\n",
      "tw\n",
      "ty\n",
      "tyv\n",
      "tzm\n",
      "udm\n",
      "ug\n",
      "ug-arab\n",
      "ug-latn\n",
      "uk\n",
      "ur\n",
      "uz\n",
      "uz-cyrl\n",
      "uz-latn\n",
      "ve\n",
      "vec\n",
      "vep\n",
      "vi\n",
      "vls\n",
      "vmf\n",
      "vmw\n",
      "vo\n",
      "vot\n",
      "vro\n",
      "wa\n",
      "war\n",
      "wls\n",
      "wo\n",
      "wuu\n",
      "xal\n",
      "xh\n",
      "xmf\n",
      "xsy\n",
      "yi\n",
      "yo\n",
      "yrl\n",
      "yue\n",
      "za\n",
      "zea\n",
      "zgh\n",
      "zh\n",
      "zh-classical\n",
      "zh-cn\n",
      "zh-hans\n",
      "zh-hant\n",
      "zh-hk\n",
      "zh-min-nan\n",
      "zh-mo\n",
      "zh-my\n",
      "zh-sg\n",
      "zh-tw\n",
      "zh-yue\n",
      "zu\n"
     ]
    }
   ],
   "source": [
    "for lang in wikipedia.languages():\n",
    "    print(lang)"
   ]
  },
  {
   "cell_type": "markdown",
   "id": "44c0e44a-1da7-4963-b438-2a1ee21655fd",
   "metadata": {},
   "source": [
    "## search -> return list of seraches for your query"
   ]
  },
  {
   "cell_type": "markdown",
   "id": "2d843131-50b7-4a5b-9e43-99dd339c46e3",
   "metadata": {},
   "source": [
    ".search() return list of results from wikipedia query "
   ]
  },
  {
   "cell_type": "code",
   "execution_count": 6,
   "id": "a1996b14-d855-4dd3-8d1b-0f137b166618",
   "metadata": {},
   "outputs": [
    {
     "data": {
      "text/plain": [
       "['Itachi Uchiha',\n",
       " 'Sasuke Uchiha',\n",
       " 'Naruto (manga i anime)',\n",
       " 'Orochimaru (Naruto)',\n",
       " 'Lista postaci serii Naruto',\n",
       " 'Hideo Ishikawa',\n",
       " 'Kakashi Hatake',\n",
       " 'Lista tomów mangi Naruto',\n",
       " 'Zbigniew Konopka',\n",
       " 'Road to Ninja: Naruto the Movie']"
      ]
     },
     "execution_count": 6,
     "metadata": {},
     "output_type": "execute_result"
    }
   ],
   "source": [
    "name = \"Itachi Uchiha\"\n",
    "wikipedia.search(name)  # list"
   ]
  },
  {
   "cell_type": "code",
   "execution_count": 7,
   "id": "a5b0d65d-bd8e-4220-9828-4825a527eff0",
   "metadata": {},
   "outputs": [
    {
     "data": {
      "text/plain": [
       "['Itachi Uchiha']"
      ]
     },
     "execution_count": 7,
     "metadata": {},
     "output_type": "execute_result"
    }
   ],
   "source": [
    "wikipedia.search(name, results=1)  # list"
   ]
  },
  {
   "cell_type": "markdown",
   "id": "c689cceb-e8d4-4705-a1ab-07b66ed4e9a5",
   "metadata": {},
   "source": [
    "It's common to use (.search())[0] to return just one element (the most accurate)"
   ]
  },
  {
   "cell_type": "code",
   "execution_count": 8,
   "id": "f430e945-4cf1-446c-8fe5-54eda7578554",
   "metadata": {},
   "outputs": [
    {
     "data": {
      "text/plain": [
       "'Itachi Uchiha'"
      ]
     },
     "execution_count": 8,
     "metadata": {},
     "output_type": "execute_result"
    }
   ],
   "source": [
    "name = \"Itachi Uchiha\"\n",
    "(wikipedia.search(name))[0]  # str"
   ]
  },
  {
   "cell_type": "markdown",
   "id": "d966b9c1-643a-4b1c-acdc-77bc7f19f1c8",
   "metadata": {},
   "source": [
    "## suggest help when you are not sure about pronounce "
   ]
  },
  {
   "cell_type": "code",
   "execution_count": 9,
   "id": "4ae9978a-798e-465e-a05d-4ea3ff2a7450",
   "metadata": {},
   "outputs": [
    {
     "data": {
      "text/plain": [
       "'braci obama'"
      ]
     },
     "execution_count": 9,
     "metadata": {},
     "output_type": "execute_result"
    }
   ],
   "source": [
    "name = \"Itachi Uchiha\"\n",
    "wikipedia.suggest(\"Brack Obama\")"
   ]
  },
  {
   "cell_type": "markdown",
   "id": "b74c0c92-320c-46ff-b5ae-4f8674d2ee5d",
   "metadata": {},
   "source": [
    "## summary() return summary of your query"
   ]
  },
  {
   "cell_type": "code",
   "execution_count": 10,
   "id": "38ce2538-9025-46d4-a040-84df9bc792e0",
   "metadata": {
    "tags": []
   },
   "outputs": [
    {
     "data": {
      "text/plain": [
       "'Itachi Uchiha (jap. うちはイタチ Uchiha Itachi) – fikcyjna postać w mandze i anime Naruto. Był jednym z ostatnich żyjących potomków klanu Uchiha. Jest starszym bratem Sasuke.\\nW wieku lat 4 był świadkiem wielu śmierci spowodowanych wojną. W wieku lat 7 w ciągu roku ukończył Akademię, zaś rok później aktywował Sharingan. Chūninem został w wieku 10 lat, a jako dwunastolatek był już dowódcą oddziału ANBU. Przewyższał siłą i umiejętnościami wszystkich pozostałych członków klanu Uchiha. Aby posiąść wyższy poziom Sharingan (Mangekyō Sharingan), jego najlepszy przyjaciel, Shisui Uchiha, upozorował własną śmierć, przekazując mu swoje oczy, aby dzięki ich mocy Itachi był w stanie powstrzymać rozlew krwi. Itachi oskarżony o morderstwo pobił oddział policji mówiąc, że ludzie nienawidzą i lękają się tych, których nie rozumieją oraz że przywiązanie ogranicza potencjał. By zapobiec nadchodzącej wewnątrz klanowej wojnie Itachi, wraz z Obito Uchiha (Tobim), z rozkazu Danzō dokonuje mordu na wszystkich jego członkach, pozostawiając przy życiu jedynie młodszego brata, Sasuke. Okazało się, jednak, że rodzice młodzieńca o wszystkim wiedzieli, ale ich miłość do syna kazała im zgodzić się na dobrowolną śmierć dla dobra dzieci. Itachi jest głównym obiektem obsesyjnej zemsty, jaka ogarnęła umysł Sasuke od czasu upadku klanu. Pragnienie zabicia brata, świadomie przez niego podsycane, jest podstawowym motywem działań Sasuke.\\nPo opuszczeniu wioski Itachi dołącza do tajemniczej organizacji zwanej Akatsuki. Po latach nieobecności, wraz ze swoim partnerem Kisame Hoshigakim, zbiera Bijū potrzebne Painowi do całkowitego zawładnięcia światem Shinobi. Itachi udawał przed Sasuke niezrównoważonego, aby zaraz po zabiciu będącego w nim Orochimaru, wszczepić w niego swoje moce, ginąc przy tym z powodu ciężkiej choroby i wycieńczenia. Dzięki temu Sasuke, gdy ujrzy twarz Obito, aktywuje się jego Mangekyō Sharingan. Wtedy Obito zostaje zaatakowany przez Amaterasu.'"
      ]
     },
     "execution_count": 10,
     "metadata": {},
     "output_type": "execute_result"
    }
   ],
   "source": [
    "name = \"Itachi Uchiha\"\n",
    "wikipedia.summary(name)  # str return summary from wikipedia about topic (name)"
   ]
  },
  {
   "cell_type": "code",
   "execution_count": 11,
   "id": "25f69a20-4a97-407e-a001-f52d36911193",
   "metadata": {
    "tags": []
   },
   "outputs": [
    {
     "data": {
      "text/plain": [
       "'Itachi Uchiha (jap. うちはイタチ Uchiha Itachi) – fikcyjna postać w mandze i anime Naruto. Był jednym z ostatnich żyjących potomków klanu Uchiha.'"
      ]
     },
     "execution_count": 11,
     "metadata": {},
     "output_type": "execute_result"
    }
   ],
   "source": [
    "name = \"Itachi Uchiha\"\n",
    "wikipedia.summary(name, sentences=3) # str as above but return just 3 sentences, not whole"
   ]
  },
  {
   "cell_type": "markdown",
   "id": "e2f5b2ab-aca2-4a18-8b39-fada39a27699",
   "metadata": {},
   "source": [
    "# page Object\n",
    "## page(title=None, pageid=None, auto_suggest=True, redirect=True, preload=False) -> get WikipediaPage object: allow to load full Wikipedia page and do operatoin on it"
   ]
  },
  {
   "cell_type": "code",
   "execution_count": 32,
   "id": "b6b50acc-0853-4ffd-b776-80df8f5387ff",
   "metadata": {},
   "outputs": [
    {
     "data": {
      "text/plain": [
       "<WikipediaPage 'Itachi Uchiha'>"
      ]
     },
     "execution_count": 32,
     "metadata": {},
     "output_type": "execute_result"
    }
   ],
   "source": [
    "itachi = wikipedia.page(name)  # WikipediaPage object\n",
    "itachi"
   ]
  },
  {
   "cell_type": "markdown",
   "id": "ca2b0eb7-90f1-4798-95f5-1280b855f5ef",
   "metadata": {},
   "source": [
    "#### .page() methods"
   ]
  },
  {
   "cell_type": "code",
   "execution_count": 28,
   "id": "f4c887b3-515b-4856-bfc0-9bbc96b21e14",
   "metadata": {},
   "outputs": [
    {
     "data": {
      "text/plain": [
       "'Itachi Uchiha'"
      ]
     },
     "execution_count": 28,
     "metadata": {},
     "output_type": "execute_result"
    }
   ],
   "source": [
    "itachi.title  # title"
   ]
  },
  {
   "cell_type": "code",
   "execution_count": 29,
   "id": "806c3fe1-2e84-4877-91ce-a4dc3536d1bc",
   "metadata": {},
   "outputs": [
    {
     "data": {
      "text/plain": [
       "'913862'"
      ]
     },
     "execution_count": 29,
     "metadata": {},
     "output_type": "execute_result"
    }
   ],
   "source": [
    "itachi.pageid  # the numeric pageid of the page to load"
   ]
  },
  {
   "cell_type": "code",
   "execution_count": 16,
   "id": "8db13cd4-992a-4ce8-a8ea-e65aa88452e9",
   "metadata": {},
   "outputs": [
    {
     "data": {
      "text/plain": [
       "'https://pl.wikipedia.org/wiki/Itachi_Uchiha'"
      ]
     },
     "execution_count": 16,
     "metadata": {},
     "output_type": "execute_result"
    }
   ],
   "source": [
    "itachi.url  # link to page"
   ]
  },
  {
   "cell_type": "code",
   "execution_count": 17,
   "id": "57f5ce29-97c0-4781-ba0b-02067c68caed",
   "metadata": {
    "tags": []
   },
   "outputs": [
    {
     "data": {
      "text/plain": [
       "'Itachi Uchiha (jap. うちはイタチ Uchiha Itachi) – fikcyjna postać w mandze i anime Naruto. Był jednym z ostatnich żyjących potomków klanu Uchiha. Jest starszym bratem Sasuke.\\nW wieku lat 4 był świadkiem wielu śmierci spowodowanych wojną. W wieku lat 7 w ciągu roku ukończył Akademię, zaś rok później aktywował Sharingan. Chūninem został w wieku 10 lat, a jako dwunastolatek był już dowódcą oddziału ANBU. Przewyższał siłą i umiejętnościami wszystkich pozostałych członków klanu Uchiha. Aby posiąść wyższy poziom Sharingan (Mangekyō Sharingan), jego najlepszy przyjaciel, Shisui Uchiha, upozorował własną śmierć, przekazując mu swoje oczy, aby dzięki ich mocy Itachi był w stanie powstrzymać rozlew krwi. Itachi oskarżony o morderstwo pobił oddział policji mówiąc, że ludzie nienawidzą i lękają się tych, których nie rozumieją oraz że przywiązanie ogranicza potencjał. By zapobiec nadchodzącej wewnątrz klanowej wojnie Itachi, wraz z Obito Uchiha (Tobim), z rozkazu Danzō dokonuje mordu na wszystkich jego członkach, pozostawiając przy życiu jedynie młodszego brata, Sasuke. Okazało się, jednak, że rodzice młodzieńca o wszystkim wiedzieli, ale ich miłość do syna kazała im zgodzić się na dobrowolną śmierć dla dobra dzieci. Itachi jest głównym obiektem obsesyjnej zemsty, jaka ogarnęła umysł Sasuke od czasu upadku klanu. Pragnienie zabicia brata, świadomie przez niego podsycane, jest podstawowym motywem działań Sasuke.\\nPo opuszczeniu wioski Itachi dołącza do tajemniczej organizacji zwanej Akatsuki. Po latach nieobecności, wraz ze swoim partnerem Kisame Hoshigakim, zbiera Bijū potrzebne Painowi do całkowitego zawładnięcia światem Shinobi. Itachi udawał przed Sasuke niezrównoważonego, aby zaraz po zabiciu będącego w nim Orochimaru, wszczepić w niego swoje moce, ginąc przy tym z powodu ciężkiej choroby i wycieńczenia. Dzięki temu Sasuke, gdy ujrzy twarz Obito, aktywuje się jego Mangekyō Sharingan. Wtedy Obito zostaje zaatakowany przez Amaterasu.\\n\\n\\n== Osobowość ==\\nItachi rzadko okazuje emocje. Charakteryzuje się zimnym, ale skutecznym kalkulowaniem sytuacji w walce. Jest cichy, tajemniczy i chłodny. Posiada mroczną, nie ukazującą uczuć osobowość. Wszystkie swoje uczucia i emocje tłumi w głębi serca, nie pozwalając by były widoczne na jego twarzy czy w zachowaniu. Wyjątkami są momenty, kiedy spogląda zamyślony w niebo.\\n\\n\\n== Zdolności ==\\nPodczas walki Itachi przeważnie stosuje taktykę defensywną i rzadko atakuje. Kiedy staje do walki z przeciwnikiem korzystającym z technik genjutsu korzysta z Sharingana do wykonania Magen: Kyōten Chiten, aby skierować genjutsu przeciwko jego użytkownikowi.\\nMangekyō Sharingan umożliwia Itachiemu wykonanie najpotężniejszych technik klanu Uchiha. Tsukuyomi, który wykonuje przy pomocy lewego oka, więzi przeciwnika w iluzorycznym świecie, gdzie jest on poddawany torturom psychicznym pozornie trwającym kilka dni, a w rzeczywistości tyle, ile czasu zajmuje mrugnięcie okiem. Amaterasu, które wykonuje przy pomocy prawego oka, tworzy czarny, gorący jak słońce ogień, którym jest w stanie przepalić każdą przeszkodę. Susanoo jest zaś wielkim eterycznym wojownikiem, który chroni użytkownika tej techniki przed każdym atakiem.\\n\\n\\n== Przypisy =='"
      ]
     },
     "execution_count": 17,
     "metadata": {},
     "output_type": "execute_result"
    }
   ],
   "source": [
    "itachi.content  # Plain text content of the page, excluding images, tables, and other data."
   ]
  },
  {
   "cell_type": "code",
   "execution_count": 18,
   "id": "4e51f000-d563-4687-876b-d1aca4fd00a9",
   "metadata": {},
   "outputs": [
    {
     "ename": "IndexError",
     "evalue": "list index out of range",
     "output_type": "error",
     "traceback": [
      "\u001b[1;31m---------------------------------------------------------------------------\u001b[0m",
      "\u001b[1;31mIndexError\u001b[0m                                Traceback (most recent call last)",
      "\u001b[1;32mC:\\Users\\THANEA~1\\AppData\\Local\\Temp/ipykernel_9816/4286557658.py\u001b[0m in \u001b[0;36m<module>\u001b[1;34m\u001b[0m\n\u001b[1;32m----> 1\u001b[1;33m \u001b[0mitachi\u001b[0m\u001b[1;33m.\u001b[0m\u001b[0mimages\u001b[0m\u001b[1;33m[\u001b[0m\u001b[1;36m0\u001b[0m\u001b[1;33m]\u001b[0m  \u001b[1;31m# u'http://upload.wikimedia.org/wikipedia/commons/9/91/New_York_quarter%2C_reverse_side%2C_2001.jpg'\u001b[0m\u001b[1;33m\u001b[0m\u001b[1;33m\u001b[0m\u001b[0m\n\u001b[0m",
      "\u001b[1;31mIndexError\u001b[0m: list index out of range"
     ]
    }
   ],
   "source": [
    "itachi.images[0]  # u'http://upload.wikimedia.org/wikipedia/commons/9/91/New_York_quarter%2C_reverse_side%2C_2001.jpg'"
   ]
  },
  {
   "cell_type": "code",
   "execution_count": null,
   "id": "72fb81f7-1b1a-4ce9-be01-44494998645c",
   "metadata": {},
   "outputs": [],
   "source": [
    "itachi.links[0]  # u'1790 United States Census'"
   ]
  },
  {
   "cell_type": "code",
   "execution_count": null,
   "id": "cfef3dfa-55f1-49bd-9d57-6371a0f82469",
   "metadata": {},
   "outputs": [],
   "source": [
    "itachi.categories  # list -> return list of categories"
   ]
  },
  {
   "cell_type": "code",
   "execution_count": null,
   "id": "fad5fb12-77d6-474f-b7d7-4b172ebef175",
   "metadata": {},
   "outputs": [],
   "source": [
    "itachi.html()  # str -> Get full page HTML."
   ]
  },
  {
   "cell_type": "code",
   "execution_count": null,
   "id": "ff6a5480-06ee-4539-aabc-e0fc4f181fce",
   "metadata": {},
   "outputs": [],
   "source": [
    "itachi.images  # list -> List of URLs of images on the page."
   ]
  },
  {
   "cell_type": "code",
   "execution_count": null,
   "id": "945c788f-f843-452c-90fa-c7aaa2a40f79",
   "metadata": {
    "tags": []
   },
   "outputs": [],
   "source": [
    "itachi.links  #  lsit-> List of titles of Wikipedia page links on a page."
   ]
  },
  {
   "cell_type": "code",
   "execution_count": null,
   "id": "a6fd8b2f-6463-4d8c-aa7e-f39940231a91",
   "metadata": {},
   "outputs": [],
   "source": [
    "itachi.parent_id  # int -> parent id"
   ]
  },
  {
   "cell_type": "code",
   "execution_count": null,
   "id": "7823c410-4569-46ce-ba18-0b5f279611c2",
   "metadata": {
    "tags": []
   },
   "outputs": [],
   "source": [
    "itachi.references  # -> List of URLs of external links on a page"
   ]
  },
  {
   "cell_type": "code",
   "execution_count": null,
   "id": "d34b76db-bf9b-4b59-bc63-81251d755c4f",
   "metadata": {},
   "outputs": [],
   "source": [
    "itachi.revision_id  #"
   ]
  },
  {
   "cell_type": "code",
   "execution_count": null,
   "id": "2b11beb5-f159-4a93-b524-ff28b6dc9be1",
   "metadata": {},
   "outputs": [],
   "source": [
    "section_name = \"Creation and design\"\n",
    "itachi.section(section_name)"
   ]
  },
  {
   "cell_type": "code",
   "execution_count": null,
   "id": "639e24ee-59a7-434e-a5ee-5566bf794b0d",
   "metadata": {},
   "outputs": [],
   "source": [
    "itachi.sections"
   ]
  },
  {
   "cell_type": "markdown",
   "id": "86966fcb-9556-4b3c-bd30-2c0094f9943e",
   "metadata": {},
   "source": [
    "## wikipedia methods()"
   ]
  },
  {
   "cell_type": "code",
   "execution_count": null,
   "id": "a31e16df-3adc-4f1f-a9ea-102d8b2fba5d",
   "metadata": {},
   "outputs": [],
   "source": [
    "# wikipedia.set_rate_limiting(rate_limit, min_wait=datetime.timedelta(0, 0, 50000))\n",
    "rate_limit = True  # Boolean ->  whether to enable rate limiting or not\n",
    "# min_wait = \n",
    "wikipedia.set_rate_limiting(rate_limit, min_wait=datetime.timedelta(0, 0, 50000))"
   ]
  },
  {
   "cell_type": "code",
   "execution_count": null,
   "id": "6870c09d-bd58-473e-b87e-48a982c088ec",
   "metadata": {},
   "outputs": [],
   "source": [
    "wikipedia.random(pages=1)  # list of random Wikipedia article titles (max of 10)"
   ]
  }
 ],
 "metadata": {
  "kernelspec": {
   "display_name": "Python 3 (ipykernel)",
   "language": "python",
   "name": "python3"
  },
  "language_info": {
   "codemirror_mode": {
    "name": "ipython",
    "version": 3
   },
   "file_extension": ".py",
   "mimetype": "text/x-python",
   "name": "python",
   "nbconvert_exporter": "python",
   "pygments_lexer": "ipython3",
   "version": "3.9.7"
  }
 },
 "nbformat": 4,
 "nbformat_minor": 5
}
